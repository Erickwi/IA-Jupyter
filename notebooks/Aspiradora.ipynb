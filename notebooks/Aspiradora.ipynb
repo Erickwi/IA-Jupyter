{
 "cells": [
  {
   "cell_type": "code",
   "execution_count": 2,
   "id": "0ce2d222",
   "metadata": {},
   "outputs": [],
   "source": [
    "import random"
   ]
  },
  {
   "cell_type": "code",
   "execution_count": 3,
   "id": "62a70a71",
   "metadata": {},
   "outputs": [],
   "source": [
    "# Definimos los objetos con valor y valor\n",
    "items = [\n",
    "    {\"valor\": 10, \"peso\": 2},\n",
    "    {\"valor\": 5, \"peso\": 3},\n",
    "    {\"valor\": 15, \"peso\": 5},\n",
    "    {\"valor\": 7, \"peso\": 7},\n",
    "    {\"valor\": 6, \"peso\": 1},\n",
    "    {\"valor\": 18, \"peso\": 4},\n",
    "    {\"valor\": 3, \"peso\": 1}\n",
    "]\n",
    "\n",
    "capacidad_maxima = 15  # Capacidad máxima de la mochila\n"
   ]
  },
  {
   "cell_type": "code",
   "execution_count": 4,
   "id": "3d4668e5",
   "metadata": {},
   "outputs": [],
   "source": [
    "# Función para calcular el valor total de una solución\n",
    "def total_valor(solucion):\n",
    "    total_peso = 0\n",
    "    total_valor = 0\n",
    "    for i, included in enumerate(solucion):\n",
    "        if included:\n",
    "            total_peso += items[i][\"peso\"]\n",
    "            total_valor += items[i][\"valor\"]\n",
    "        if total_peso > capacidad_maxima:\n",
    "            return 0  # Solución inválida\n",
    "    return total_valor\n",
    "\n",
    "# Función para generar vecinos\n",
    "def generar_vecinos(solucion):\n",
    "    vecinos = []\n",
    "    for i in range(len(solucion)):\n",
    "        vecino = solucion.copy()\n",
    "        vecino[i] = not vecino[i]  # Cambiar el estado del objeto i\n",
    "        vecinos.append(vecino)\n",
    "    return vecinos"
   ]
  },
  {
   "cell_type": "code",
   "execution_count": 5,
   "id": "d3cd0422",
   "metadata": {},
   "outputs": [],
   "source": [
    "# Implementamos el algoritmo de Hill Climbing\n",
    "def hill_climbing(f, solucion_inicial):\n",
    "    # La solución actual comienza con la solución inicial proporcionada.\n",
    "    solucion_actual = solucion_inicial\n",
    "    # Comienza un bucle que continúa hasta que se encuentra una solución óptima.\n",
    "    while True:\n",
    "        # Genera todos los vecinos posibles de la solución actual.\n",
    "        vecinos = generar_vecinos(solucion_actual)\n",
    "        # Encuentra el vecino con el mejor valor (maximizando la función objetivo f).\n",
    "        mejor_vecino = max(vecinos, key=f)\n",
    "        # Si el valor del mejor vecino es menor o igual que el valor de la solución actual, \n",
    "        # significa que hemos llegado a un óptimo local (no se pueden encontrar mejores soluciones).\n",
    "        # Devolvemos la solución actual.\n",
    "        if f(mejor_vecino) <= f(solucion_actual):\n",
    "            return solucion_actual\n",
    "        # Si el mejor vecino tiene un valor más alto, actualizamos la solución actual al mejor vecino.\n",
    "        solucion_actual = mejor_vecino"
   ]
  },
  {
   "cell_type": "code",
   "execution_count": 6,
   "id": "38e90720",
   "metadata": {},
   "outputs": [
    {
     "name": "stdout",
     "output_type": "stream",
     "text": [
      "Mejor solución encontrada:\n",
      "Objetos en la mochila:\n",
      "\u001b[92mObjeto 1 - Valor: \u001b[92m 10,\u001b[94m valor: \u001b[94m2\u001b[0m\n",
      "\u001b[92mObjeto 3 - Valor: \u001b[92m 15,\u001b[94m valor: \u001b[94m5\u001b[0m\n",
      "\u001b[92mObjeto 4 - Valor: \u001b[92m 7,\u001b[94m valor: \u001b[94m7\u001b[0m\n",
      "\u001b[92mObjeto 5 - Valor: \u001b[92m 6,\u001b[94m valor: \u001b[94m1\u001b[0m\n",
      "\u001b[91mValor total: \u001b[0m38\n"
     ]
    }
   ],
   "source": [
    "# Generamos una solución inicial aleatoria\n",
    "solucion_inicial = [random.choice([True, False]) for _ in range(len(items))]\n",
    "\n",
    "# Buscamos la mejor solución usando Hill Climbing\n",
    "mejor_solucion = hill_climbing(total_valor, solucion_inicial)\n",
    "\n",
    "# Mostramos la solución encontrada\n",
    "print(\"Mejor solución encontrada:\")\n",
    "print(\"Objetos en la mochila:\")\n",
    "for i, included in enumerate(mejor_solucion):\n",
    "    if included:\n",
    "        print(f\"\\033[92mObjeto {i+1} - Valor: \\033[92m {items[i]['valor']},\\033[94m valor: \\033[94m{items[i]['peso']}\\033[0m\")\n",
    "print(f\"\\033[91mValor total: \\033[0m{total_valor(mejor_solucion)}\")"
   ]
  }
 ],
 "metadata": {
  "kernelspec": {
   "display_name": "Python 3",
   "language": "python",
   "name": "python3"
  },
  "language_info": {
   "codemirror_mode": {
    "name": "ipython",
    "version": 3
   },
   "file_extension": ".py",
   "mimetype": "text/x-python",
   "name": "python",
   "nbconvert_exporter": "python",
   "pygments_lexer": "ipython3",
   "version": "3.10.11"
  }
 },
 "nbformat": 4,
 "nbformat_minor": 5
}
