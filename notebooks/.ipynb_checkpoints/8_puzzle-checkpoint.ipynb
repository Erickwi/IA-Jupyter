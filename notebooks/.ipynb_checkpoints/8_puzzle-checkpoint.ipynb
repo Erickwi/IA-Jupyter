{
 "cells": [
  {
   "cell_type": "code",
   "execution_count": 2,
   "metadata": {
    "executionInfo": {
     "elapsed": 210,
     "status": "ok",
     "timestamp": 1714565207441,
     "user": {
      "displayName": "Isabel Alvarez",
      "userId": "16949632153742676078"
     },
     "user_tz": 300
    },
    "id": "DkiZMbvZrgDV"
   },
   "outputs": [],
   "source": [
    "from collections import deque\n"
   ]
  },
  {
   "cell_type": "code",
   "execution_count": 3,
   "metadata": {
    "executionInfo": {
     "elapsed": 3,
     "status": "ok",
     "timestamp": 1714565208287,
     "user": {
      "displayName": "Isabel Alvarez",
      "userId": "16949632153742676078"
     },
     "user_tz": 300
    },
    "id": "9ueUqhj9rhiy"
   },
   "outputs": [],
   "source": [
    "def print_puzzle(state):\n",
    "    for i in range(0, 9, 3):\n",
    "        print(state[i:i+3])\n",
    "    print()"
   ]
  },
  {
   "cell_type": "code",
   "execution_count": 4,
   "metadata": {
    "executionInfo": {
     "elapsed": 4,
     "status": "ok",
     "timestamp": 1714565209228,
     "user": {
      "displayName": "Isabel Alvarez",
      "userId": "16949632153742676078"
     },
     "user_tz": 300
    },
    "id": "b29qJVOFrjyd"
   },
   "outputs": [],
   "source": [
    "def move_tile(state, direction):\n",
    "    new_state = state[:]\n",
    "    index = new_state.index(0)\n",
    "\n",
    "    # Define the swaps based on the direction\n",
    "    if direction == 'up':\n",
    "        if index >= 3:\n",
    "            new_state[index], new_state[index - 3] = new_state[index - 3], new_state[index]\n",
    "            return new_state\n",
    "    elif direction == 'down':\n",
    "        if index <= 5:\n",
    "            new_state[index], new_state[index + 3] = new_state[index + 3], new_state[index]\n",
    "            return new_state\n",
    "    elif direction == 'left':\n",
    "        if index % 3 > 0:\n",
    "            new_state[index], new_state[index - 1] = new_state[index - 1], new_state[index]\n",
    "            return new_state\n",
    "    elif direction == 'right':\n",
    "        if index % 3 < 2:\n",
    "            new_state[index], new_state[index + 1] = new_state[index + 1], new_state[index]\n",
    "            return new_state\n",
    "    return None"
   ]
  },
  {
   "cell_type": "code",
   "execution_count": 5,
   "metadata": {
    "executionInfo": {
     "elapsed": 256,
     "status": "ok",
     "timestamp": 1714565213899,
     "user": {
      "displayName": "Isabel Alvarez",
      "userId": "16949632153742676078"
     },
     "user_tz": 300
    },
    "id": "nke3fIu0ro6K"
   },
   "outputs": [],
   "source": [
    "def bfs(start, goal):\n",
    "    queue = deque([start])\n",
    "    visited = set()\n",
    "    visited.add(tuple(start))\n",
    "    parent_map = {tuple(start): None}  # Track the path\n",
    "\n",
    "    while queue:\n",
    "        current = queue.popleft()\n",
    "        if current == goal:\n",
    "            return parent_map, current\n",
    "\n",
    "        # Explore neighbors\n",
    "        for direction in ['up', 'down', 'left', 'right']:\n",
    "            neighbor = move_tile(current, direction)\n",
    "            if neighbor and tuple(neighbor) not in visited:\n",
    "                visited.add(tuple(neighbor))\n",
    "                parent_map[tuple(neighbor)] = (tuple(current), direction)\n",
    "                queue.append(neighbor)\n",
    "\n",
    "    return None, None"
   ]
  },
  {
   "cell_type": "code",
   "execution_count": 6,
   "metadata": {
    "executionInfo": {
     "elapsed": 212,
     "status": "ok",
     "timestamp": 1714565218543,
     "user": {
      "displayName": "Isabel Alvarez",
      "userId": "16949632153742676078"
     },
     "user_tz": 300
    },
    "id": "MsSGvtgRrvhh"
   },
   "outputs": [],
   "source": [
    "def reconstruct_path(parent_map, end_state):\n",
    "    path = []\n",
    "    step = end_state\n",
    "    while parent_map[step]:\n",
    "        previous_step, action = parent_map[step]\n",
    "        path.append((step, action))\n",
    "        step = previous_step\n",
    "    path.reverse()\n",
    "    return path"
   ]
  },
  {
   "cell_type": "code",
   "execution_count": 7,
   "metadata": {
    "colab": {
     "base_uri": "https://localhost:8080/"
    },
    "executionInfo": {
     "elapsed": 463,
     "status": "ok",
     "timestamp": 1714565220189,
     "user": {
      "displayName": "Isabel Alvarez",
      "userId": "16949632153742676078"
     },
     "user_tz": 300
    },
    "id": "37au9QKrrafJ",
    "outputId": "151662f0-ad09-4407-a6d4-8112b30a89e3"
   },
   "outputs": [
    {
     "name": "stdout",
     "output_type": "stream",
     "text": [
      "Solution found:\n",
      "Initial state:\n",
      "[0, 2, 3]\n",
      "[8, 1, 4]\n",
      "[7, 6, 5]\n",
      "\n",
      "Move down\n",
      "[8, 2, 3]\n",
      "[0, 1, 4]\n",
      "[7, 6, 5]\n",
      "\n",
      "Move right\n",
      "[8, 2, 3]\n",
      "[1, 0, 4]\n",
      "[7, 6, 5]\n",
      "\n",
      "Move right\n",
      "[8, 2, 3]\n",
      "[1, 4, 0]\n",
      "[7, 6, 5]\n",
      "\n",
      "Move up\n",
      "[8, 2, 0]\n",
      "[1, 4, 3]\n",
      "[7, 6, 5]\n",
      "\n",
      "Move left\n",
      "[8, 0, 2]\n",
      "[1, 4, 3]\n",
      "[7, 6, 5]\n",
      "\n",
      "Move left\n",
      "[0, 8, 2]\n",
      "[1, 4, 3]\n",
      "[7, 6, 5]\n",
      "\n",
      "Move down\n",
      "[1, 8, 2]\n",
      "[0, 4, 3]\n",
      "[7, 6, 5]\n",
      "\n",
      "Move right\n",
      "[1, 8, 2]\n",
      "[4, 0, 3]\n",
      "[7, 6, 5]\n",
      "\n",
      "Move up\n",
      "[1, 0, 2]\n",
      "[4, 8, 3]\n",
      "[7, 6, 5]\n",
      "\n",
      "Move right\n",
      "[1, 2, 0]\n",
      "[4, 8, 3]\n",
      "[7, 6, 5]\n",
      "\n",
      "Move down\n",
      "[1, 2, 3]\n",
      "[4, 8, 0]\n",
      "[7, 6, 5]\n",
      "\n",
      "Move down\n",
      "[1, 2, 3]\n",
      "[4, 8, 5]\n",
      "[7, 6, 0]\n",
      "\n",
      "Move left\n",
      "[1, 2, 3]\n",
      "[4, 8, 5]\n",
      "[7, 0, 6]\n",
      "\n",
      "Move up\n",
      "[1, 2, 3]\n",
      "[4, 0, 5]\n",
      "[7, 8, 6]\n",
      "\n",
      "Move right\n",
      "[1, 2, 3]\n",
      "[4, 5, 0]\n",
      "[7, 8, 6]\n",
      "\n",
      "Move down\n",
      "[1, 2, 3]\n",
      "[4, 5, 6]\n",
      "[7, 8, 0]\n",
      "\n"
     ]
    }
   ],
   "source": [
    "# Example initial state and goal state\n",
    "# initial_state = [1, 2, 3, 4, 5, 6, 0, 7, 8]\n",
    "initial_state = [0, 2, 3, 8, 1, 4, 7, 6 ,5]\n",
    "goal_state = [1, 2, 3, 4, 5, 6, 7, 8, 0]\n",
    "\n",
    "parent_map, end_state = bfs(initial_state, goal_state)\n",
    "if end_state:\n",
    "    print(\"Solution found:\")\n",
    "    path = reconstruct_path(parent_map, tuple(end_state))\n",
    "    current_state = initial_state\n",
    "    print(\"Initial state:\")\n",
    "    print_puzzle(current_state)\n",
    "    for step, action in path:\n",
    "        print(f\"Move {action}\")\n",
    "        current_state = list(step)  # Convert tuple back to list for printing\n",
    "        print_puzzle(current_state)\n",
    "else:\n",
    "    print(\"No solution found\")\n"
   ]
  },
  {
   "cell_type": "markdown",
   "metadata": {
    "id": "Ztzf_yIquB6o"
   },
   "source": [
    "**Encontrar al menos 10 estados iniciales que tengan solución**"
   ]
  }
 ],
 "metadata": {
  "colab": {
   "authorship_tag": "ABX9TyMXtmPsyoLzo0x304CgxOKX",
   "provenance": []
  },
  "kernelspec": {
   "display_name": "Python 3",
   "language": "python",
   "name": "python3"
  },
  "language_info": {
   "codemirror_mode": {
    "name": "ipython",
    "version": 3
   },
   "file_extension": ".py",
   "mimetype": "text/x-python",
   "name": "python",
   "nbconvert_exporter": "python",
   "pygments_lexer": "ipython3",
   "version": "3.10.11"
  }
 },
 "nbformat": 4,
 "nbformat_minor": 1
}
